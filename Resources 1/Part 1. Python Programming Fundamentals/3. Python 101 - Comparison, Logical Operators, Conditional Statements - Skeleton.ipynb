{
  "nbformat": 4,
  "nbformat_minor": 0,
  "metadata": {
    "colab": {
      "name": "3. Python 101 - Comparison, Logical Operators, Conditional Statements - Skeleton b4 filming.ipynb",
      "provenance": [],
      "collapsed_sections": []
    },
    "kernelspec": {
      "name": "python3",
      "display_name": "Python 3"
    }
  },
  "cells": [
    {
      "cell_type": "markdown",
      "metadata": {
        "id": "CV9YCHsGtAP5"
      },
      "source": [
        "# 1. COMPARISON OPERATORS\n"
      ]
    },
    {
      "cell_type": "code",
      "metadata": {
        "id": "o9VtOcrKtCc1",
        "outputId": "ff187ca8-ba18-4bda-877a-d60eb8ec9891",
        "colab": {
          "base_uri": "https://localhost:8080/",
          "height": 35
        }
      },
      "source": [
        "# Comparison Operator output could be \"True\" or \"False\"\n",
        "# Let's cover equal '==' comparison operator first\n",
        "# It's simply a question: \"Is stock_1_price equals stock_2_price or not?\"\n",
        "# \"True\" output means condition is satisfied \n",
        "# \"False\" output means Condition is not satisfied (condition is not true) \n",
        "stock_1_price = 2000\n",
        "stock_2_price = 1500\n",
        "\n",
        "stock_1_price == stock_2_price\n"
      ],
      "execution_count": 3,
      "outputs": [
        {
          "output_type": "execute_result",
          "data": {
            "text/plain": [
              "False"
            ]
          },
          "metadata": {
            "tags": []
          },
          "execution_count": 3
        }
      ]
    },
    {
      "cell_type": "code",
      "metadata": {
        "id": "l48NWuCztX5G",
        "outputId": "99c5b29e-eb48-4edd-e598-69fd92927ab2",
        "colab": {
          "base_uri": "https://localhost:8080/",
          "height": 35
        }
      },
      "source": [
        "# Greater than or equal operator '>='\n",
        "stock_1_price >= stock_2_price"
      ],
      "execution_count": 4,
      "outputs": [
        {
          "output_type": "execute_result",
          "data": {
            "text/plain": [
              "True"
            ]
          },
          "metadata": {
            "tags": []
          },
          "execution_count": 4
        }
      ]
    },
    {
      "cell_type": "code",
      "metadata": {
        "id": "RmUrcn31tY0_"
      },
      "source": [
        "# Note that '==' is a comparison operator \n",
        "# Note that '=' is used for variable assignment (put 10 in stock_1_price)\n"
      ],
      "execution_count": null,
      "outputs": []
    },
    {
      "cell_type": "code",
      "metadata": {
        "id": "TttdgxEPtY3z",
        "outputId": "535ae61f-38a9-4b1a-c2de-53c1be83dc31",
        "colab": {
          "base_uri": "https://localhost:8080/",
          "height": 35
        }
      },
      "source": [
        "x = 10\n",
        "x"
      ],
      "execution_count": 5,
      "outputs": [
        {
          "output_type": "execute_result",
          "data": {
            "text/plain": [
              "10"
            ]
          },
          "metadata": {
            "tags": []
          },
          "execution_count": 5
        }
      ]
    },
    {
      "cell_type": "code",
      "metadata": {
        "id": "9fvPnQePtY9K",
        "outputId": "3f063025-5234-4eea-f48a-48f85ee2d932",
        "colab": {
          "base_uri": "https://localhost:8080/",
          "height": 35
        }
      },
      "source": [
        "# Comparison operators work with strings as well\n",
        "'Finance' == 'Finance'"
      ],
      "execution_count": 9,
      "outputs": [
        {
          "output_type": "execute_result",
          "data": {
            "text/plain": [
              "True"
            ]
          },
          "metadata": {
            "tags": []
          },
          "execution_count": 9
        }
      ]
    },
    {
      "cell_type": "code",
      "metadata": {
        "id": "krIE9oTdtj-Q",
        "outputId": "a173cca0-495a-40da-9304-04210479cb54",
        "colab": {
          "base_uri": "https://localhost:8080/",
          "height": 35
        }
      },
      "source": [
        "# Both strings have to exactly match (lower case vs. upper case)\n",
        "'Finance' == 'finance'"
      ],
      "execution_count": 10,
      "outputs": [
        {
          "output_type": "execute_result",
          "data": {
            "text/plain": [
              "False"
            ]
          },
          "metadata": {
            "tags": []
          },
          "execution_count": 10
        }
      ]
    },
    {
      "cell_type": "code",
      "metadata": {
        "id": "WI6k596Xtlcc",
        "outputId": "c35c1155-2add-4d26-afeb-9f13e0771026",
        "colab": {
          "base_uri": "https://localhost:8080/",
          "height": 35
        }
      },
      "source": [
        "# Not equal comparison operator '!='\n",
        "stock_1_price != stock_2_price\n"
      ],
      "execution_count": 11,
      "outputs": [
        {
          "output_type": "execute_result",
          "data": {
            "text/plain": [
              "True"
            ]
          },
          "metadata": {
            "tags": []
          },
          "execution_count": 11
        }
      ]
    },
    {
      "cell_type": "markdown",
      "metadata": {
        "id": "eNyKRJob4Xlo"
      },
      "source": [
        "**MINI CHALLENGE #1:**\n",
        "- **Without executing the code cell, What will this code generate?**\n",
        "\n",
        "```\n",
        "stock_1_price = 15\n",
        "stock_2_price = 10\n",
        "\n",
        "print(stock_1_price == stock_2_price) \n",
        "print(stock_1_price != stock_2_price) \n",
        "print(stock_1_price > stock_2_price)\n",
        "print(stock_1_price < stock_2_price) \n",
        "```\n"
      ]
    },
    {
      "cell_type": "code",
      "metadata": {
        "id": "-vRyMcIhlVPg",
        "outputId": "a77be482-04b1-402d-9e57-915312792f5b",
        "colab": {
          "base_uri": "https://localhost:8080/",
          "height": 90
        }
      },
      "source": [
        "stock_1_price = 15\n",
        "stock_2_price = 10\n",
        " \n",
        "print(stock_1_price == stock_2_price) \n",
        "print(stock_1_price != stock_2_price) \n",
        "print(stock_1_price > stock_2_price)\n",
        "print(stock_1_price < stock_2_price)\n"
      ],
      "execution_count": 12,
      "outputs": [
        {
          "output_type": "stream",
          "text": [
            "False\n",
            "True\n",
            "True\n",
            "False\n"
          ],
          "name": "stdout"
        }
      ]
    },
    {
      "cell_type": "markdown",
      "metadata": {
        "id": "4ElLliXmvffI"
      },
      "source": [
        "# 2. LOGICAL OPERATORS"
      ]
    },
    {
      "cell_type": "code",
      "metadata": {
        "id": "DZ4lIrr9viXb",
        "outputId": "36b93766-f66b-4793-d5e0-4ab19a603e97",
        "colab": {
          "base_uri": "https://localhost:8080/",
          "height": 35
        }
      },
      "source": [
        "# For \"and\" logical operators, both arguments must be \"True\" in order for the output to be \"True\" \n",
        "# (Note that this is the only case in which the 'and' logical operator generates a True output)\n",
        "# 1 and 1 = 1\n",
        "True and True"
      ],
      "execution_count": 13,
      "outputs": [
        {
          "output_type": "execute_result",
          "data": {
            "text/plain": [
              "True"
            ]
          },
          "metadata": {
            "tags": []
          },
          "execution_count": 13
        }
      ]
    },
    {
      "cell_type": "code",
      "metadata": {
        "id": "tBllQqO2vxPe",
        "outputId": "3e108507-294e-49bd-d047-5422d41c8bc7",
        "colab": {
          "base_uri": "https://localhost:8080/",
          "height": 35
        }
      },
      "source": [
        "# 0 and 1 = 0\n",
        "True and False"
      ],
      "execution_count": 14,
      "outputs": [
        {
          "output_type": "execute_result",
          "data": {
            "text/plain": [
              "False"
            ]
          },
          "metadata": {
            "tags": []
          },
          "execution_count": 14
        }
      ]
    },
    {
      "cell_type": "code",
      "metadata": {
        "id": "ebgLEPrQvy1h",
        "outputId": "695cc579-0245-4ceb-c9e4-404b89a7ad6a",
        "colab": {
          "base_uri": "https://localhost:8080/",
          "height": 35
        }
      },
      "source": [
        "# 0 and 0 = 0\n",
        "False and False"
      ],
      "execution_count": 15,
      "outputs": [
        {
          "output_type": "execute_result",
          "data": {
            "text/plain": [
              "False"
            ]
          },
          "metadata": {
            "tags": []
          },
          "execution_count": 15
        }
      ]
    },
    {
      "cell_type": "code",
      "metadata": {
        "id": "Y_FB6C6yvzqb",
        "outputId": "cc510573-91eb-4198-d8d9-ad8ea3a0ed24",
        "colab": {
          "base_uri": "https://localhost:8080/",
          "height": 35
        }
      },
      "source": [
        "# For \"or\" logical operators, if any one of the arguments is \"True\", the output will be \"True\" \n",
        "# 1 or 1 = 1\n",
        "True or True"
      ],
      "execution_count": 16,
      "outputs": [
        {
          "output_type": "execute_result",
          "data": {
            "text/plain": [
              "True"
            ]
          },
          "metadata": {
            "tags": []
          },
          "execution_count": 16
        }
      ]
    },
    {
      "cell_type": "code",
      "metadata": {
        "id": "kiy1MhGrvzu9",
        "outputId": "1c2e22be-c6c3-4840-bfe8-822481e9ec74",
        "colab": {
          "base_uri": "https://localhost:8080/",
          "height": 35
        }
      },
      "source": [
        "# 1 or 0 = 1\n",
        "True or False"
      ],
      "execution_count": 17,
      "outputs": [
        {
          "output_type": "execute_result",
          "data": {
            "text/plain": [
              "True"
            ]
          },
          "metadata": {
            "tags": []
          },
          "execution_count": 17
        }
      ]
    },
    {
      "cell_type": "code",
      "metadata": {
        "id": "S9Zo0wWovz2j",
        "outputId": "6c9b218c-c826-4a34-f660-e42f92d00dab",
        "colab": {
          "base_uri": "https://localhost:8080/",
          "height": 35
        }
      },
      "source": [
        "# 0 or 1 = 1\n",
        "False or True"
      ],
      "execution_count": 18,
      "outputs": [
        {
          "output_type": "execute_result",
          "data": {
            "text/plain": [
              "True"
            ]
          },
          "metadata": {
            "tags": []
          },
          "execution_count": 18
        }
      ]
    },
    {
      "cell_type": "code",
      "metadata": {
        "id": "Tu1BB3FAvz8-",
        "outputId": "6e2ed101-0ae8-44ae-f660-dfb18254cb34",
        "colab": {
          "base_uri": "https://localhost:8080/",
          "height": 35
        }
      },
      "source": [
        "# 0 or 0 = 0 (Note that this is the only case in which the 'or' logical operator generates a False output)\n",
        "False or False"
      ],
      "execution_count": 19,
      "outputs": [
        {
          "output_type": "execute_result",
          "data": {
            "text/plain": [
              "False"
            ]
          },
          "metadata": {
            "tags": []
          },
          "execution_count": 19
        }
      ]
    },
    {
      "cell_type": "code",
      "metadata": {
        "id": "KC9ArCvsvz7J",
        "outputId": "ec85b08c-0b12-4280-d4c0-4e955d3ac6fd",
        "colab": {
          "base_uri": "https://localhost:8080/",
          "height": 35
        }
      },
      "source": [
        " # True and False = False \n",
        "(10 > 3) and (9 == 5)"
      ],
      "execution_count": 20,
      "outputs": [
        {
          "output_type": "execute_result",
          "data": {
            "text/plain": [
              "False"
            ]
          },
          "metadata": {
            "tags": []
          },
          "execution_count": 20
        }
      ]
    },
    {
      "cell_type": "code",
      "metadata": {
        "id": "1kVyRF3Avz5V",
        "outputId": "2d6a6ce7-f660-4319-a723-5ef3eb0ecb7a",
        "colab": {
          "base_uri": "https://localhost:8080/",
          "height": 35
        }
      },
      "source": [
        "# True or False = True\n",
        "(10 > 3) or (9 == 5)"
      ],
      "execution_count": 21,
      "outputs": [
        {
          "output_type": "execute_result",
          "data": {
            "text/plain": [
              "True"
            ]
          },
          "metadata": {
            "tags": []
          },
          "execution_count": 21
        }
      ]
    },
    {
      "cell_type": "markdown",
      "metadata": {
        "id": "vjvXsd7ezN4y"
      },
      "source": [
        "**MINI CHALLENGE #2:**\n",
        "- **Without executing the code cell, What will these two lines of code generate?**\n",
        "\n",
        "```\n",
        "print('FINANCE'!='FINANCE' and (10 > 3) and (20 == 20)) \n",
        "```\n",
        "\n",
        "```\n",
        "print('Finance'!='FINANCE' or (16 > 20) or (25 == 25)) \n",
        "```\n"
      ]
    },
    {
      "cell_type": "code",
      "metadata": {
        "id": "4u7cWLq15VZt",
        "outputId": "f9e7e9b7-ebb1-4d28-ce6f-10b5ee57ffd1",
        "colab": {
          "base_uri": "https://localhost:8080/",
          "height": 54
        }
      },
      "source": [
        "print('FINANCE'!='FINANCE' and (10 > 3) and (20 == 20)) \n",
        "print('Finance'!='FINANCE' or (16 > 20) or (25 == 25)) "
      ],
      "execution_count": 23,
      "outputs": [
        {
          "output_type": "stream",
          "text": [
            "False\n",
            "True\n"
          ],
          "name": "stdout"
        }
      ]
    },
    {
      "cell_type": "markdown",
      "metadata": {
        "id": "GVMXs0iZ0xJp"
      },
      "source": [
        "**MINI CHALLENGE #3:**\n",
        "- **Without executing the code cell, What will these two lines of code generate?**\n",
        "\n",
        "```\n",
        "a = 5\n",
        "b = 3.5\n",
        "\n",
        "print(a == b or a != b) \n",
        "print(a == b and a != b) \n",
        "```\n",
        "\n"
      ]
    },
    {
      "cell_type": "code",
      "metadata": {
        "id": "xA9pXas-5WJB",
        "outputId": "a5cefc20-c733-4606-b59c-2bf0caa70e8c",
        "colab": {
          "base_uri": "https://localhost:8080/",
          "height": 54
        }
      },
      "source": [
        "a = 5\n",
        "b = 3.5\n",
        " \n",
        "print(a == b or a != b) \n",
        "print(a == b and a != b)"
      ],
      "execution_count": 24,
      "outputs": [
        {
          "output_type": "stream",
          "text": [
            "True\n",
            "False\n"
          ],
          "name": "stdout"
        }
      ]
    },
    {
      "cell_type": "markdown",
      "metadata": {
        "id": "STR2UADaxtHC"
      },
      "source": [
        "# 3. CONDITIONAL STATEMENTS"
      ]
    },
    {
      "cell_type": "markdown",
      "metadata": {
        "id": "owrJExRxX--G"
      },
      "source": [
        "- A simple if-else statement is written in Python as follows:\n",
        "\n",
        "```\n",
        "if condition:\n",
        "  statement #1\n",
        "else:\n",
        "  statement #2\n",
        "```\n",
        "\n",
        "- If the condition is true, execute the first indented statement\n",
        "- if the condition is not true, then execute the else indented statements. \n",
        "- Note that Python uses indentation (whitespace) to indicate code sections and scope."
      ]
    },
    {
      "cell_type": "code",
      "metadata": {
        "id": "9iiHeyl_xvte",
        "outputId": "cbe65ea5-f799-445a-def2-7f4d00774126",
        "colab": {
          "base_uri": "https://localhost:8080/",
          "height": 35
        }
      },
      "source": [
        "if 10>9:\n",
        "  print('If condition is True')\n",
        "else: \n",
        "  print('If condition is False')"
      ],
      "execution_count": 27,
      "outputs": [
        {
          "output_type": "stream",
          "text": [
            "If condition is True\n"
          ],
          "name": "stdout"
        }
      ]
    },
    {
      "cell_type": "code",
      "metadata": {
        "id": "M05mmLIWxzCP",
        "outputId": "5991b10e-e3d2-43cb-dfe2-879833012568",
        "colab": {
          "base_uri": "https://localhost:8080/",
          "height": 35
        }
      },
      "source": [
        "if 8>9:\n",
        "  print('If condition is True')\n",
        "else: \n",
        "  print('If condition is False')"
      ],
      "execution_count": 28,
      "outputs": [
        {
          "output_type": "stream",
          "text": [
            "If condition is False\n"
          ],
          "name": "stdout"
        }
      ]
    },
    {
      "cell_type": "code",
      "metadata": {
        "id": "4i8g3ORFxzFn",
        "outputId": "6f69839a-6af0-4c31-efd4-163388e726c3",
        "colab": {
          "base_uri": "https://localhost:8080/",
          "height": 35
        }
      },
      "source": [
        "a = 8\n",
        "b = 9\n",
        "\n",
        "if a==b:\n",
        "  print('Two numbers are equal')\n",
        "elif a>b: \n",
        "  print('a is greater than b')\n",
        "else:\n",
        "  print('a is less than b')"
      ],
      "execution_count": 29,
      "outputs": [
        {
          "output_type": "stream",
          "text": [
            "a is less than b\n"
          ],
          "name": "stdout"
        }
      ]
    },
    {
      "cell_type": "code",
      "metadata": {
        "id": "cZKbXTtVxzAG",
        "outputId": "00dfe76a-d431-4007-dbf6-036a71b4a532",
        "colab": {
          "base_uri": "https://localhost:8080/",
          "height": 34
        }
      },
      "source": [
        ""
      ],
      "execution_count": null,
      "outputs": [
        {
          "output_type": "stream",
          "text": [
            "First statement is true\n"
          ],
          "name": "stdout"
        }
      ]
    },
    {
      "cell_type": "code",
      "metadata": {
        "id": "qXCMo76Wxy95",
        "outputId": "4ffe8c4e-ef05-45ed-f57f-d5539b1142a4",
        "colab": {
          "base_uri": "https://localhost:8080/",
          "height": 54
        }
      },
      "source": [
        "# Let's take an input from the user and grant or deny access accordingly\n",
        "username = str(input('Enter your username : '))\n",
        "if username.upper() == 'RYAN':\n",
        "  print('Access granted')\n",
        "else:\n",
        "  print('Access denied')"
      ],
      "execution_count": 32,
      "outputs": [
        {
          "output_type": "stream",
          "text": [
            "Enter your username : ryan\n",
            "Access granted\n"
          ],
          "name": "stdout"
        }
      ]
    },
    {
      "cell_type": "code",
      "metadata": {
        "id": "mgZaUUxhxy75",
        "outputId": "0afa30bd-e080-49c0-bcf0-0e7b684b284c",
        "colab": {
          "base_uri": "https://localhost:8080/",
          "height": 50
        }
      },
      "source": [
        "# Let's make the code more robust (case insensitive)\n",
        "\n"
      ],
      "execution_count": null,
      "outputs": [
        {
          "output_type": "stream",
          "text": [
            "Enter your username:RYAN\n",
            "Access granted\n"
          ],
          "name": "stdout"
        }
      ]
    },
    {
      "cell_type": "markdown",
      "metadata": {
        "id": "E9b_qCZ12Baz"
      },
      "source": [
        "**MINI CHALLENGE #4:**\n",
        "- **Write a code that takes a number from the user and indicates if it's positive or negative**"
      ]
    },
    {
      "cell_type": "code",
      "metadata": {
        "id": "I4-RpDvp2kHG",
        "outputId": "78f6e8ea-d0ec-4c28-fbcd-6b142d2e0e2e",
        "colab": {
          "base_uri": "https://localhost:8080/",
          "height": 54
        }
      },
      "source": [
        "num = int(input('Please enter a number: '))\n",
        "\n",
        "if num>0:\n",
        "  print('Positive')\n",
        "elif num==0:\n",
        "  print('Nutral')\n",
        "else:\n",
        "  print('Negative')"
      ],
      "execution_count": 35,
      "outputs": [
        {
          "output_type": "stream",
          "text": [
            "Please enter a number: 0\n",
            "Nutral\n"
          ],
          "name": "stdout"
        }
      ]
    },
    {
      "cell_type": "markdown",
      "metadata": {
        "id": "OnJwHMUe2Ztp"
      },
      "source": [
        "**MINI CHALLENGE #5:**\n",
        "- **Write a code that takes a number from the user and checks if the number is divisible by 3 but is not a multiple of 7**"
      ]
    },
    {
      "cell_type": "code",
      "metadata": {
        "id": "KHv409N93OjP",
        "outputId": "4ac643af-e5ca-48ff-a8fc-3769eba5fdbc",
        "colab": {
          "base_uri": "https://localhost:8080/",
          "height": 54
        }
      },
      "source": [
        "num = int(input('Please enter a number : '))\n",
        "\n",
        "if ((num%7)!=0) and (num%3 < 2):\n",
        "  print('The {} is divisible by 3, but is not a multiple of 7'.format(num))\n",
        "else:\n",
        "  print('False')"
      ],
      "execution_count": 38,
      "outputs": [
        {
          "output_type": "stream",
          "text": [
            "Please enter a number : 18\n",
            "The 18 is divisible by 3, but is not a multiple of 7\n"
          ],
          "name": "stdout"
        }
      ]
    },
    {
      "cell_type": "markdown",
      "metadata": {
        "id": "bMs3OKSo29_D"
      },
      "source": [
        "**MINI CHALLENGE #6:** \n",
        "- **Write a code that takes a number from the user and indicate if the number is even or odd**"
      ]
    },
    {
      "cell_type": "code",
      "metadata": {
        "id": "RaDyZQqC28Ya",
        "outputId": "208b7fde-7545-44c2-e62b-dd346b46e013",
        "colab": {
          "base_uri": "https://localhost:8080/",
          "height": 54
        }
      },
      "source": [
        "num = int(input('Please enter a number : '))\n",
        "\n",
        "if (num%2==0):\n",
        "  print('Even')\n",
        "else:\n",
        "  print('Odd')"
      ],
      "execution_count": 39,
      "outputs": [
        {
          "output_type": "stream",
          "text": [
            "Please enter a number : 5\n",
            "Odd\n"
          ],
          "name": "stdout"
        }
      ]
    },
    {
      "cell_type": "markdown",
      "metadata": {
        "id": "OHTSxeq90GFt"
      },
      "source": [
        "# MINI CHALLENGE SOLUTIONS"
      ]
    },
    {
      "cell_type": "markdown",
      "metadata": {
        "id": "_TkjGyHolLOh"
      },
      "source": [
        "**MINI CHALLENGE #1 SOLUTION:**\n",
        "- **Without executing the code cell, What will this code generate?**\n",
        "\n",
        "```\n",
        "stock_1_price = 15\n",
        "stock_2_price = 10\n",
        "\n",
        "print(stock_1_price == stock_2_price) \n",
        "print(stock_1_price != stock_2_price) \n",
        "print(stock_1_price > stock_2_price)\n",
        "print(stock_1_price < stock_2_price) \n",
        "```\n"
      ]
    },
    {
      "cell_type": "code",
      "metadata": {
        "id": "jI9I6Xv4lLOi",
        "outputId": "ce45f272-cf22-437b-db2f-54eedd5045f6",
        "colab": {
          "base_uri": "https://localhost:8080/",
          "height": 84
        }
      },
      "source": [
        "stock_1_price = 15\n",
        "stock_2_price = 10\n",
        "\n",
        "print(stock_1_price == stock_2_price) \n",
        "print(stock_1_price != stock_2_price) \n",
        "print(stock_1_price > stock_2_price)\n",
        "print(stock_1_price < stock_2_price) "
      ],
      "execution_count": null,
      "outputs": [
        {
          "output_type": "stream",
          "text": [
            "False\n",
            "True\n",
            "True\n",
            "False\n"
          ],
          "name": "stdout"
        }
      ]
    },
    {
      "cell_type": "markdown",
      "metadata": {
        "id": "vuw6vDPK0Jmd"
      },
      "source": [
        "**MINI CHALLENGE #2 SOLUTION:**\n",
        "- **Without executing the code cell, What will these two lines of code generate?**\n",
        "\n",
        "```\n",
        "print( 'Finance'!='FINANCE' and (10 > 3) and (20 == 20)) \n",
        "```\n",
        "\n",
        "```\n",
        "print( 'Finance'!='FINANCE' or (16 > 20) or (25 == 25)) \n",
        "```\n"
      ]
    },
    {
      "cell_type": "code",
      "metadata": {
        "id": "gYd-N11Y0NZC",
        "outputId": "a843dafa-d0d5-4ec4-c1a9-fc023604658a",
        "colab": {
          "base_uri": "https://localhost:8080/",
          "height": 34
        }
      },
      "source": [
        "# FALSE and TRUE and TRUE\n",
        "print('FINANCE'!='FINANCE' and (10 > 3) and (20 == 20)) "
      ],
      "execution_count": null,
      "outputs": [
        {
          "output_type": "stream",
          "text": [
            "False\n"
          ],
          "name": "stdout"
        }
      ]
    },
    {
      "cell_type": "code",
      "metadata": {
        "id": "CaWri1bQ0Pys",
        "outputId": "316520fa-847a-44b2-a027-ae71b2de898e",
        "colab": {
          "base_uri": "https://localhost:8080/",
          "height": 34
        }
      },
      "source": [
        "# TRUE or FALSE or TRUE\n",
        "print('Finance'!='FINANCE' or (16 > 20) or (25 == 25)) "
      ],
      "execution_count": null,
      "outputs": [
        {
          "output_type": "stream",
          "text": [
            "True\n"
          ],
          "name": "stdout"
        }
      ]
    },
    {
      "cell_type": "markdown",
      "metadata": {
        "id": "ckRo860a1YRo"
      },
      "source": [
        "**MINI CHALLENGE #3 SOLUTION:**\n",
        "- **Without executing the code cell, What will these two lines of code generate?**\n",
        "\n",
        "```\n",
        "a = 5\n",
        "b = 3.5\n",
        "\n",
        "print(a == b or a != b) \n",
        "print(a == b and a != b) \n",
        "```\n"
      ]
    },
    {
      "cell_type": "code",
      "metadata": {
        "id": "eFMOENhv1avh",
        "outputId": "016c2b13-1cb1-401e-8832-31258dac3a7c",
        "colab": {
          "base_uri": "https://localhost:8080/",
          "height": 50
        }
      },
      "source": [
        "a = 5\n",
        "b = 3.5\n",
        "\n",
        "print(a == b or a != b) # False or True = True \n",
        "print(a == b and a != b) # False and True = False"
      ],
      "execution_count": null,
      "outputs": [
        {
          "output_type": "stream",
          "text": [
            "True\n",
            "False\n"
          ],
          "name": "stdout"
        }
      ]
    },
    {
      "cell_type": "markdown",
      "metadata": {
        "id": "7Utj-SiU3UuK"
      },
      "source": [
        "**MINI CHALLENGE #4 SOLUTION:**\n",
        "- **Write a code that takes a number from the user and indicates if it's positive or negative or zero**"
      ]
    },
    {
      "cell_type": "code",
      "metadata": {
        "id": "JtX7pRr03Y7r",
        "outputId": "6a96004f-ee9e-4498-90cb-8e166716e890",
        "colab": {
          "base_uri": "https://localhost:8080/",
          "height": 50
        }
      },
      "source": [
        "x = int(input(\"Please enter an integer: \"))\n",
        "\n",
        "if x < 0:\n",
        "    print('Number is Negative')\n",
        "elif x > 0:\n",
        "    print('Number is Positive')\n",
        "else:    \n",
        "    print ('Number is zero')"
      ],
      "execution_count": null,
      "outputs": [
        {
          "output_type": "stream",
          "text": [
            "Please enter an integer: 9\n",
            "Number is Positive\n"
          ],
          "name": "stdout"
        }
      ]
    },
    {
      "cell_type": "markdown",
      "metadata": {
        "id": "4yvXX18Y3UuL"
      },
      "source": [
        "**MINI CHALLENGE #5 SOLUTION:**\n",
        "- **Write a code that takes a number from the user and checks if the number is divisible by 3 but is not a multiple of 7**"
      ]
    },
    {
      "cell_type": "code",
      "metadata": {
        "id": "mmyi-AFc3ZLd",
        "outputId": "58d90f3e-52d0-4c44-e9fd-7be93a43e2de",
        "colab": {
          "base_uri": "https://localhost:8080/",
          "height": 50
        }
      },
      "source": [
        "# Try 21\n",
        "\n",
        "i = int(input(\"Enter a number between 1 and 100:\"))\n",
        "\n",
        "if (i % 3 == 0) and (i % 7 !=0):\n",
        "    print(\"Number satisfies the requirement; The number is divisible by 3 and not multiple of 7\")\n",
        "else:\n",
        "    print(\"The number does not satisfy the requirements\")\n"
      ],
      "execution_count": null,
      "outputs": [
        {
          "output_type": "stream",
          "text": [
            "Enter a number between 1 and 100:21\n",
            "The number does not satisfy the requirements\n"
          ],
          "name": "stdout"
        }
      ]
    },
    {
      "cell_type": "markdown",
      "metadata": {
        "id": "Y-I6GMYA3UuM"
      },
      "source": [
        "**MINI CHALLENGE #6 SOLUTION:** \n",
        "- **Write a code that takes a number from the user and indicate if the number is even or odd**"
      ]
    },
    {
      "cell_type": "code",
      "metadata": {
        "id": "VNWzhMS03Z71",
        "outputId": "18804c8b-4b77-4b25-e79e-51c9aefa0fa9",
        "colab": {
          "base_uri": "https://localhost:8080/",
          "height": 50
        }
      },
      "source": [
        "x = int(input(\"Please enter an integer from 1 to 1000: \"))\n",
        "\n",
        "if x % 2==0:\n",
        "    print('Number is Even')\n",
        "else:\n",
        "    print('Number is odd')"
      ],
      "execution_count": null,
      "outputs": [
        {
          "output_type": "stream",
          "text": [
            "Please enter an integer from 1 to 1000: 50\n",
            "Number is Even\n"
          ],
          "name": "stdout"
        }
      ]
    }
  ]
}